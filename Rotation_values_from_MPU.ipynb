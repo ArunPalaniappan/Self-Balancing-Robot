{
  "nbformat": 4,
  "nbformat_minor": 0,
  "metadata": {
    "colab": {
      "name": "Rotation_values_from_MPU.ipynb",
      "provenance": []
    },
    "kernelspec": {
      "name": "python3",
      "display_name": "Python 3"
    },
    "language_info": {
      "name": "python"
    }
  },
  "cells": [
    {
      "cell_type": "code",
      "execution_count": 1,
      "metadata": {
        "id": "2wCzp5P0YU1-"
      },
      "outputs": [],
      "source": [
        "import matplotlib.pyplot as plt"
      ]
    },
    {
      "cell_type": "code",
      "source": [
        "y = [-0.03, 0.06, 0.30, 0.53, 0.84, 0.97, 1.32, 1.42, 1.57, 1.84, 2.06, 2.29, 2.37, 2.86, 3.38, 3.56, 3.72, 4.09, 4.45, 4.49]\n",
        "x = range(0,10*len(y),10)\n",
        "\n",
        "plt.scatter(x,y)\n",
        "\n",
        "plt.show()"
      ],
      "metadata": {
        "colab": {
          "base_uri": "https://localhost:8080/",
          "height": 265
        },
        "id": "SpT3kWghZUsg",
        "outputId": "8f526d00-3336-4d52-c08b-9dae37f2c610"
      },
      "execution_count": 2,
      "outputs": [
        {
          "output_type": "display_data",
          "data": {
            "image/png": "[encoded data removed]",
            "text/plain": [
              "<Figure size 432x288 with 1 Axes>"
            ]
          },
          "metadata": {
            "needs_background": "light"
          }
        }
      ]
    },
    {
      "cell_type": "code",
      "source": [
        ""
      ],
      "metadata": {
        "id": "IJFLS6suZ4i3"
      },
      "execution_count": null,
      "outputs": []
    }
  ]
}